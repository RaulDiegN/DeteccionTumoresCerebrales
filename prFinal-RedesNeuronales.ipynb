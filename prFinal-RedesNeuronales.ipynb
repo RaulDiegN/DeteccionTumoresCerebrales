{
 "cells": [
  {
   "cell_type": "code",
   "execution_count": 1,
   "metadata": {},
   "outputs": [],
   "source": [
    "from scipy.io import loadmat\n",
    "import numpy as np\n",
    "import scipy.optimize as opt\n",
    "from pandas.io.parsers import read_csv\n",
    "import sklearn.preprocessing as skp"
   ]
  },
  {
   "cell_type": "code",
   "execution_count": 2,
   "metadata": {},
   "outputs": [
    {
     "name": "stdout",
     "output_type": "stream",
     "text": [
      "(1644, 11)\n",
      "(1644,)\n"
     ]
    }
   ],
   "source": [
    "def carga_csv(file_name):\n",
    "    valores = read_csv(file_name, header=None).values\n",
    "    return valores\n",
    "#(0,1,2,3,6,7,8,9,10,11,15,17)\n",
    "#(0,1,2,6,7,8,9,10,11,15,17)\n",
    "#()\n",
    "def seleccionAtributos(datos):\n",
    "    datos = datos[:,1:].astype(float)\n",
    "    datos = datos[:, (0,1,2,3,6,7,8,9,10,11,15,17)]\n",
    "    return datos\n",
    "\n",
    "\n",
    "datos = carga_csv('./data/bt_dataset_t3.csv')\n",
    "\n",
    "datos = seleccionAtributos(datos)\n",
    "X = datos[:,:-1]\n",
    "y = datos[:, -1]\n",
    "print(np.shape(X))\n",
    "print(np.shape(y))"
   ]
  },
  {
   "cell_type": "code",
   "execution_count": 3,
   "metadata": {},
   "outputs": [],
   "source": [
    "#60%\n",
    "numTrain = 987\n",
    "#20%\n",
    "numVal = 328\n",
    "#20%\n",
    "numTest = 329"
   ]
  },
  {
   "cell_type": "code",
   "execution_count": 4,
   "metadata": {},
   "outputs": [
    {
     "name": "stdout",
     "output_type": "stream",
     "text": [
      "(987, 11)\n",
      "(987,)\n",
      "(328, 11)\n",
      "(328,)\n",
      "(329, 11)\n",
      "(329,)\n"
     ]
    }
   ],
   "source": [
    "xtrain = X[:numTrain,:]\n",
    "ytrain = y[:numTrain]\n",
    "print(np.shape(xtrain))\n",
    "print(np.shape(ytrain))\n",
    "\n",
    "xval = X[:numVal,:]\n",
    "yval = y[:numVal]\n",
    "print(np.shape(xval))\n",
    "print(np.shape(yval))\n",
    "\n",
    "xtest = X[:numTest,:]\n",
    "ytest = y[:numTest]\n",
    "print(np.shape(xtest))\n",
    "print(np.shape(ytest))"
   ]
  },
  {
   "cell_type": "code",
   "execution_count": 5,
   "metadata": {},
   "outputs": [],
   "source": [
    "def mapFeature(X,p):\n",
    "    poly = skp.PolynomialFeatures(p,include_bias=False)\n",
    "    return poly.fit_transform(X)"
   ]
  },
  {
   "cell_type": "code",
   "execution_count": 6,
   "metadata": {},
   "outputs": [],
   "source": [
    "def normalizar(X) :\n",
    "    mu = np.mean(X,0)\n",
    "    s = np.std(X,0)\n",
    "    X = (X-mu)/s\n",
    "    return (X, mu, s)"
   ]
  },
  {
   "cell_type": "code",
   "execution_count": 7,
   "metadata": {},
   "outputs": [
    {
     "name": "stdout",
     "output_type": "stream",
     "text": [
      "(987, 75581)\n"
     ]
    }
   ],
   "source": [
    "x = mapFeature(xtrain, 8)\n",
    "(x, mu , s) = normalizar(x)\n",
    "print(x.shape)"
   ]
  },
  {
   "cell_type": "code",
   "execution_count": 8,
   "metadata": {},
   "outputs": [],
   "source": [
    "def despliegaMatriz(params_rn, num_entradas, num_ocultas, num_etiquetas):\n",
    "    \n",
    "    theta1 = np.reshape ( params_rn [:num_ocultas * (num_entradas + 1)],\n",
    "    (num_ocultas, (num_entradas + 1)) )\n",
    "    \n",
    "    theta2 = np.reshape ( params_rn [num_ocultas * (num_entradas + 1):],\n",
    "    (num_etiquetas, (num_ocultas + 1)) )\n",
    "    \n",
    "    return (theta1, theta2)"
   ]
  },
  {
   "cell_type": "code",
   "execution_count": 9,
   "metadata": {},
   "outputs": [],
   "source": [
    "def funcion_sigmoide(z):\n",
    "    return 1 / (1 + np.exp(-z))"
   ]
  },
  {
   "cell_type": "code",
   "execution_count": 10,
   "metadata": {},
   "outputs": [],
   "source": [
    "def hipotesis(theta1, theta2, x):\n",
    "    one = np.ones((len(x), 1))\n",
    "    a1 = np.hstack([one, x])\n",
    "    a2 = funcion_sigmoide(a1.dot(theta1.T))\n",
    "    a2 = np.hstack([one, a2])\n",
    "    a3 = funcion_sigmoide(a2.dot(theta2.T)) \n",
    "    return a3"
   ]
  },
  {
   "cell_type": "code",
   "execution_count": 11,
   "metadata": {},
   "outputs": [],
   "source": [
    "def funcionCoste(theta1, theta2, x, y, num_etiquetas):\n",
    "\n",
    "    yk = np.zeros((len(x), num_etiquetas))\n",
    "    for k in range(1, num_etiquetas + 1):\n",
    "        y_ = np.where(y == k, 1, 0)\n",
    "        yk[:, k-1] = y_.ravel()\n",
    "\n",
    "    return -1/len(x) * np.sum((np.log( hipotesis(theta1, theta2, x) ) * yk) \n",
    "    + (np.log( 1 - hipotesis(theta1, theta2, x) ) * (1-yk)))"
   ]
  },
  {
   "cell_type": "code",
   "execution_count": 13,
   "metadata": {},
   "outputs": [
    {
     "ename": "NameError",
     "evalue": "name 'theta1' is not defined",
     "output_type": "error",
     "traceback": [
      "\u001b[1;31m---------------------------------------------------------------------------\u001b[0m",
      "\u001b[1;31mNameError\u001b[0m                                 Traceback (most recent call last)",
      "\u001b[1;32m<ipython-input-13-7fb5f0eaccf8>\u001b[0m in \u001b[0;36m<module>\u001b[1;34m\u001b[0m\n\u001b[1;32m----> 1\u001b[1;33m \u001b[0mfuncionCoste\u001b[0m\u001b[1;33m(\u001b[0m\u001b[0mtheta1\u001b[0m\u001b[1;33m,\u001b[0m \u001b[0mtheta2\u001b[0m\u001b[1;33m,\u001b[0m \u001b[0mX\u001b[0m\u001b[1;33m,\u001b[0m \u001b[0my\u001b[0m\u001b[1;33m,\u001b[0m \u001b[1;36m10\u001b[0m\u001b[1;33m)\u001b[0m\u001b[1;33m\u001b[0m\u001b[1;33m\u001b[0m\u001b[0m\n\u001b[0m",
      "\u001b[1;31mNameError\u001b[0m: name 'theta1' is not defined"
     ]
    }
   ],
   "source": [
    "#funcionCoste(theta1, theta2, X, y, 10)"
   ]
  },
  {
   "cell_type": "code",
   "execution_count": 14,
   "metadata": {},
   "outputs": [],
   "source": [
    "def funcionCosteReg(theta1, theta2, x, y, num_etiquetas, lamb):\n",
    "    \n",
    "    coste = funcionCoste(theta1, theta2, x, y, num_etiquetas)\n",
    "    \n",
    "        \n",
    "    return coste + (lamb/(2*len(x)))*(np.sum(theta1[:,1:]**2) \n",
    "    + np.sum(theta2[:, 1:]**2))"
   ]
  },
  {
   "cell_type": "code",
   "execution_count": 15,
   "metadata": {},
   "outputs": [
    {
     "ename": "NameError",
     "evalue": "name 'theta1' is not defined",
     "output_type": "error",
     "traceback": [
      "\u001b[1;31m---------------------------------------------------------------------------\u001b[0m",
      "\u001b[1;31mNameError\u001b[0m                                 Traceback (most recent call last)",
      "\u001b[1;32m<ipython-input-15-0f363cfffbb6>\u001b[0m in \u001b[0;36m<module>\u001b[1;34m\u001b[0m\n\u001b[1;32m----> 1\u001b[1;33m \u001b[0mfuncionCosteReg\u001b[0m\u001b[1;33m(\u001b[0m\u001b[0mtheta1\u001b[0m\u001b[1;33m,\u001b[0m \u001b[0mtheta2\u001b[0m\u001b[1;33m,\u001b[0m \u001b[0mX\u001b[0m\u001b[1;33m,\u001b[0m \u001b[0my\u001b[0m\u001b[1;33m,\u001b[0m \u001b[1;36m10\u001b[0m\u001b[1;33m,\u001b[0m \u001b[1;36m1\u001b[0m\u001b[1;33m)\u001b[0m\u001b[1;33m\u001b[0m\u001b[1;33m\u001b[0m\u001b[0m\n\u001b[0m",
      "\u001b[1;31mNameError\u001b[0m: name 'theta1' is not defined"
     ]
    }
   ],
   "source": [
    "#funcionCosteReg(theta1, theta2, X, y, 10, 1)"
   ]
  },
  {
   "cell_type": "code",
   "execution_count": 16,
   "metadata": {},
   "outputs": [],
   "source": [
    "def derivada_fun_sigmoide(z):\n",
    "    return funcion_sigmoide(z) * (1 - funcion_sigmoide(z))"
   ]
  },
  {
   "cell_type": "code",
   "execution_count": 17,
   "metadata": {},
   "outputs": [],
   "source": [
    "def pesosAleatorios(L_in, L_out):\n",
    "    return np.random.uniform(-0.12, 0.12, (L_in, L_out))"
   ]
  },
  {
   "cell_type": "code",
   "execution_count": 18,
   "metadata": {},
   "outputs": [],
   "source": [
    "def salidasCapas(theta1, theta2, x):\n",
    "    a1 = np.append(1, x)\n",
    "    z2 = a1.dot(theta1.T)\n",
    "    a2 = funcion_sigmoide(z2)\n",
    "    a2 = np.append(1, a2)\n",
    "    z3 = a2.dot(theta2.T)\n",
    "    a3 = funcion_sigmoide(z3) \n",
    "    \n",
    "    return (a1,a2,a3,z2)"
   ]
  },
  {
   "cell_type": "code",
   "execution_count": 19,
   "metadata": {},
   "outputs": [],
   "source": [
    "def gradiente(x, y, theta1, theta2, num_etiquetas) : \n",
    " \n",
    "    yk = np.zeros((len(x), num_etiquetas))\n",
    "    for k in range(1, num_etiquetas + 1):\n",
    "        y_ = np.where(y == k, 1, 0)\n",
    "        yk[:, k-1] = y_.ravel()\n",
    "\n",
    "    delta1 = np.zeros((len(theta1), theta1[0].size))\n",
    "    delta2 = np.zeros((len(theta2), theta2[0].size))\n",
    "\n",
    "    for i in range(0, len(x)):\n",
    "        a1, a2, a3, z2 = salidasCapas(theta1, theta2, x[i,:])\n",
    "\n",
    "        d3 = (a3 - yk[i])\n",
    "        \n",
    "        z2 = np.append(1, z2)\n",
    "        d2 = (theta2.T).dot(d3)*derivada_fun_sigmoide(z2)\n",
    "    \n",
    "        d2 = np.delete(d2, 0)\n",
    "        \n",
    "        delta1 += np.matmul(d2[:,np.newaxis],a1[np.newaxis,:])\n",
    "        delta2 += np.matmul(d3[:,np.newaxis],a2[np.newaxis,:])\n",
    "        \n",
    "    D1 = delta1/len(x)\n",
    "    D2 = delta2/len(x)\n",
    "        \n",
    "    return np.concatenate((D1.ravel(), D2.ravel()))"
   ]
  },
  {
   "cell_type": "code",
   "execution_count": 20,
   "metadata": {},
   "outputs": [],
   "source": [
    "def backprop(params_rn, num_entradas, num_ocultas, num_etiquetas, X, y, reg):\n",
    "    \n",
    "    theta1, theta2 = despliegaMatriz(params_rn, num_entradas, num_ocultas, num_etiquetas)\n",
    "\n",
    "    coste = funcionCoste(theta1, theta2, X, y, num_etiquetas)\n",
    "    gradient = gradiente(X, y, theta1, theta2, num_etiquetas)\n",
    "\n",
    "    \n",
    "    return (coste, gradient)"
   ]
  },
  {
   "cell_type": "code",
   "execution_count": 21,
   "metadata": {},
   "outputs": [
    {
     "ename": "NameError",
     "evalue": "name 'theta' is not defined",
     "output_type": "error",
     "traceback": [
      "\u001b[1;31m---------------------------------------------------------------------------\u001b[0m",
      "\u001b[1;31mNameError\u001b[0m                                 Traceback (most recent call last)",
      "\u001b[1;32m<ipython-input-21-c3d3f140cea1>\u001b[0m in \u001b[0;36m<module>\u001b[1;34m\u001b[0m\n\u001b[1;32m----> 1\u001b[1;33m \u001b[0mbackprop\u001b[0m\u001b[1;33m(\u001b[0m\u001b[0mtheta\u001b[0m\u001b[1;33m,\u001b[0m \u001b[1;36m400\u001b[0m\u001b[1;33m,\u001b[0m \u001b[1;36m25\u001b[0m\u001b[1;33m,\u001b[0m \u001b[1;36m10\u001b[0m\u001b[1;33m,\u001b[0m \u001b[0mX\u001b[0m\u001b[1;33m,\u001b[0m \u001b[0my\u001b[0m\u001b[1;33m,\u001b[0m \u001b[1;36m1\u001b[0m\u001b[1;33m)\u001b[0m\u001b[1;33m\u001b[0m\u001b[1;33m\u001b[0m\u001b[0m\n\u001b[0m",
      "\u001b[1;31mNameError\u001b[0m: name 'theta' is not defined"
     ]
    }
   ],
   "source": [
    "#backprop(theta, 400, 25, 10, X, y, 1)"
   ]
  },
  {
   "cell_type": "code",
   "execution_count": 22,
   "metadata": {},
   "outputs": [],
   "source": [
    "def costeRN(params_rn, num_entradas, num_ocultas, num_etiquetas, X, y, reg) :\n",
    "    \n",
    "    theta1, theta2 = despliegaMatriz(params_rn, num_entradas, num_ocultas, num_etiquetas)\n",
    "\n",
    "    coste = funcionCosteReg(theta1, theta2, X, y, num_etiquetas, reg)\n",
    "    grad = gradiente(X, y, theta1, theta2, num_etiquetas)\n",
    "    \n",
    "    delta1, delta2 = despliegaMatriz(grad, num_entradas, num_ocultas, num_etiquetas)\n",
    "                \n",
    "    delta1[:, 1:] += (theta1[:, 1:] * reg/len(X))\n",
    "    delta2[:, 1:] += (theta2[:, 1:] * reg/len(X))\n",
    "    \n",
    "    gradient = np.concatenate((delta1.ravel(), delta2.ravel()))\n",
    "    \n",
    "    return (coste,gradient)"
   ]
  },
  {
   "cell_type": "code",
   "execution_count": 23,
   "metadata": {},
   "outputs": [
    {
     "ename": "NameError",
     "evalue": "name 'theta' is not defined",
     "output_type": "error",
     "traceback": [
      "\u001b[1;31m---------------------------------------------------------------------------\u001b[0m",
      "\u001b[1;31mNameError\u001b[0m                                 Traceback (most recent call last)",
      "\u001b[1;32m<ipython-input-23-8b553c1b755c>\u001b[0m in \u001b[0;36m<module>\u001b[1;34m\u001b[0m\n\u001b[1;32m----> 1\u001b[1;33m \u001b[0mcosteRN\u001b[0m\u001b[1;33m(\u001b[0m\u001b[0mtheta\u001b[0m\u001b[1;33m,\u001b[0m \u001b[1;36m400\u001b[0m\u001b[1;33m,\u001b[0m \u001b[1;36m25\u001b[0m\u001b[1;33m,\u001b[0m \u001b[1;36m10\u001b[0m\u001b[1;33m,\u001b[0m \u001b[0mX\u001b[0m\u001b[1;33m,\u001b[0m \u001b[0my\u001b[0m\u001b[1;33m,\u001b[0m \u001b[1;36m1\u001b[0m\u001b[1;33m)\u001b[0m\u001b[1;33m\u001b[0m\u001b[1;33m\u001b[0m\u001b[0m\n\u001b[0m",
      "\u001b[1;31mNameError\u001b[0m: name 'theta' is not defined"
     ]
    }
   ],
   "source": [
    "#costeRN(theta, 400, 25, 10, X, y, 1)"
   ]
  },
  {
   "cell_type": "code",
   "execution_count": 26,
   "metadata": {},
   "outputs": [],
   "source": [
    "def aprendizaje(lamb, iteraciones):\n",
    "    thetaRnd1 = pesosAleatorios(12, 4)\n",
    "    thetaRnd2 = pesosAleatorios(5, 2)\n",
    "    thetaRnd = np.r_[thetaRnd1.ravel(), thetaRnd2.ravel()]\n",
    "    fmin = opt.minimize(costeRN, thetaRnd, args=(11,4,2,X,y, lamb), \n",
    "                        method='TNC', options={'maxiter': iteraciones}, jac=True)\n",
    "    \n",
    "    optTheta = fmin.x\n",
    "    theta1, theta2 = despliegaMatriz(optTheta, 11, 4, 2)\n",
    "    probabilidad = hipotesis(theta1, theta2, X)\n",
    "    indices  = np.argmax(probabilidad, axis=1)\n",
    "    indices  += 1\n",
    "    porcentaje = (indices == y.ravel())\n",
    "    clasificados = porcentaje[porcentaje == True]\n",
    "    percent = (len(clasificados)/len(X))*100\n",
    "\n",
    "    print(\"Porcentaje de aciertos: \", percent, \"%\")"
   ]
  },
  {
   "cell_type": "code",
   "execution_count": 27,
   "metadata": {},
   "outputs": [
    {
     "name": "stdout",
     "output_type": "stream",
     "text": [
      "Porcentaje de aciertos:  88.13868613138686 %\n"
     ]
    }
   ],
   "source": [
    "aprendizaje(1, 50)"
   ]
  },
  {
   "cell_type": "code",
   "execution_count": 28,
   "metadata": {},
   "outputs": [
    {
     "name": "stdout",
     "output_type": "stream",
     "text": [
      "Porcentaje de aciertos:  88.13868613138686 %\n"
     ]
    }
   ],
   "source": [
    "aprendizaje(1, 100)"
   ]
  }
 ],
 "metadata": {
  "kernelspec": {
   "display_name": "Python 3",
   "language": "python",
   "name": "python3"
  },
  "language_info": {
   "codemirror_mode": {
    "name": "ipython",
    "version": 3
   },
   "file_extension": ".py",
   "mimetype": "text/x-python",
   "name": "python",
   "nbconvert_exporter": "python",
   "pygments_lexer": "ipython3",
   "version": "3.7.4"
  }
 },
 "nbformat": 4,
 "nbformat_minor": 2
}
