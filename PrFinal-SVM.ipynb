{
 "cells": [
  {
   "cell_type": "code",
   "execution_count": 1,
   "metadata": {},
   "outputs": [],
   "source": [
    "import numpy as np\n",
    "from pandas.io.parsers import read_csv\n",
    "import matplotlib.pyplot as plt\n",
    "import scipy.optimize as opt\n",
    "import sklearn.preprocessing as skp\n",
    "import sklearn.svm as svm"
   ]
  },
  {
   "cell_type": "code",
   "execution_count": 11,
   "metadata": {},
   "outputs": [
    {
     "name": "stdout",
     "output_type": "stream",
     "text": [
      "(1644, 3)\n",
      "(1644,)\n"
     ]
    }
   ],
   "source": [
    "def carga_csv(file_name):\n",
    "    valores = read_csv(file_name, header=None).values\n",
    "    return valores\n",
    "#(0,1,2,3,6,7,8,9,10,11,15,17)\n",
    "#(0,1,2,6,7,8,9,10,11,15,17)\n",
    "#()\n",
    "def seleccionAtributos(datos):\n",
    "    datos = datos[:,1:].astype(float)\n",
    "    datos = datos[:, (10,15,11,17)]\n",
    "    return datos\n",
    "\n",
    "\n",
    "datos = carga_csv('./data/bt_dataset_t3.csv')\n",
    "\n",
    "datos = seleccionAtributos(datos)\n",
    "X = datos[:,:-1]\n",
    "y = datos[:, -1]\n",
    "print(np.shape(X))\n",
    "print(np.shape(y))"
   ]
  },
  {
   "cell_type": "code",
   "execution_count": 12,
   "metadata": {},
   "outputs": [],
   "source": [
    "#60%\n",
    "numTrain = 987\n",
    "#20%\n",
    "numVal = 328\n",
    "#20%\n",
    "numTest = 329"
   ]
  },
  {
   "cell_type": "code",
   "execution_count": 13,
   "metadata": {},
   "outputs": [
    {
     "name": "stdout",
     "output_type": "stream",
     "text": [
      "(987, 3)\n",
      "(987,)\n",
      "(328, 3)\n",
      "(328,)\n",
      "(329, 3)\n",
      "(329,)\n"
     ]
    }
   ],
   "source": [
    "xtrain = X[:numTrain,:]\n",
    "ytrain = y[:numTrain]\n",
    "print(np.shape(xtrain))\n",
    "print(np.shape(ytrain))\n",
    "\n",
    "xval = X[:numVal,:]\n",
    "yval = y[:numVal]\n",
    "print(np.shape(xval))\n",
    "print(np.shape(yval))\n",
    "\n",
    "xtest = X[:numTest,:]\n",
    "ytest = y[:numTest]\n",
    "print(np.shape(xtest))\n",
    "print(np.shape(ytest))"
   ]
  },
  {
   "cell_type": "code",
   "execution_count": 14,
   "metadata": {},
   "outputs": [
    {
     "data": {
      "text/plain": [
       "SVC(C=1, cache_size=200, class_weight=None, coef0=0.0,\n",
       "    decision_function_shape='ovr', degree=3, gamma=49.99999999999999,\n",
       "    kernel='rbf', max_iter=-1, probability=False, random_state=None,\n",
       "    shrinking=True, tol=0.001, verbose=False)"
      ]
     },
     "execution_count": 14,
     "metadata": {},
     "output_type": "execute_result"
    }
   ],
   "source": [
    "svmAux = svm.SVC(kernel='rbf', C=1, gamma=1/(2*0.1**2))\n",
    "\n",
    "svmAux.fit(xtrain, ytrain.ravel())"
   ]
  },
  {
   "cell_type": "code",
   "execution_count": 15,
   "metadata": {},
   "outputs": [
    {
     "data": {
      "text/plain": [
       "0.8658536585365854"
      ]
     },
     "execution_count": 15,
     "metadata": {},
     "output_type": "execute_result"
    }
   ],
   "source": [
    "svmAux.score(xval, yval)"
   ]
  },
  {
   "cell_type": "code",
   "execution_count": 16,
   "metadata": {},
   "outputs": [],
   "source": [
    "def calcularPorcentaje(C, Sigma, x, y, xval, yval) :\n",
    "    adecuado = 0\n",
    "    \n",
    "    for c in C :\n",
    "        for sigma in Sigma :\n",
    "            svmAux = svm.SVC(kernel='rbf', C=c, gamma=1/(2*sigma**2))\n",
    "            svmAux.fit(x, y)\n",
    "            porc = svmAux.score(xval, yval)\n",
    "            \n",
    "            if(adecuado < porc) :\n",
    "                adecuado = porc\n",
    "                cSigma = (c,sigma)\n",
    "\n",
    "    return cSigma"
   ]
  },
  {
   "cell_type": "code",
   "execution_count": 17,
   "metadata": {},
   "outputs": [
    {
     "data": {
      "text/plain": [
       "(30.0, 0.01)"
      ]
     },
     "execution_count": 17,
     "metadata": {},
     "output_type": "execute_result"
    }
   ],
   "source": [
    "aux = np.array([0.01,0.03,0.1,0.3,1,3,10,30])\n",
    "cSigma = calcularPorcentaje(aux, aux, xtrain, ytrain.ravel(), xval, yval.ravel())\n",
    "cSigma"
   ]
  },
  {
   "cell_type": "code",
   "execution_count": 18,
   "metadata": {},
   "outputs": [
    {
     "data": {
      "text/plain": [
       "0.9908536585365854"
      ]
     },
     "execution_count": 18,
     "metadata": {},
     "output_type": "execute_result"
    }
   ],
   "source": [
    "svmAux = svm.SVC(kernel='rbf', C=cSigma[0], gamma=1/(2*cSigma[1]**2))\n",
    "\n",
    "svmAux.fit(xtrain, ytrain.ravel())\n",
    "\n",
    "svmAux.score(xval, yval)"
   ]
  },
  {
   "cell_type": "code",
   "execution_count": 19,
   "metadata": {},
   "outputs": [
    {
     "data": {
      "text/plain": [
       "0.9908814589665653"
      ]
     },
     "execution_count": 19,
     "metadata": {},
     "output_type": "execute_result"
    }
   ],
   "source": [
    "svmAux.score(xtest, ytest)"
   ]
  },
  {
   "cell_type": "code",
   "execution_count": null,
   "metadata": {},
   "outputs": [],
   "source": []
  }
 ],
 "metadata": {
  "kernelspec": {
   "display_name": "Python 3",
   "language": "python",
   "name": "python3"
  },
  "language_info": {
   "codemirror_mode": {
    "name": "ipython",
    "version": 3
   },
   "file_extension": ".py",
   "mimetype": "text/x-python",
   "name": "python",
   "nbconvert_exporter": "python",
   "pygments_lexer": "ipython3",
   "version": "3.7.4"
  }
 },
 "nbformat": 4,
 "nbformat_minor": 2
}
