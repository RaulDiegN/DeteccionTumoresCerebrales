{
 "cells": [
  {
   "cell_type": "code",
   "execution_count": 1,
   "metadata": {},
   "outputs": [],
   "source": [
    "import numpy as np\n",
    "from pandas.io.parsers import read_csv\n",
    "import matplotlib.pyplot as plt\n",
    "import scipy.optimize as opt\n",
    "import sklearn.preprocessing as skp"
   ]
  },
  {
   "cell_type": "code",
   "execution_count": 2,
   "metadata": {},
   "outputs": [
    {
     "name": "stdout",
     "output_type": "stream",
     "text": [
      "(1644, 3)\n",
      "(1644,)\n"
     ]
    }
   ],
   "source": [
    "def carga_csv(file_name):\n",
    "    valores = read_csv(file_name, header=None).values\n",
    "    return valores\n",
    "#(0,1,2,3,6,7,8,9,10,11,15,17)\n",
    "#(0,1,2,6,7,8,9,10,11,15,17)\n",
    "#()\n",
    "def seleccionAtributos(datos):\n",
    "    datos = datos[:,1:].astype(float)\n",
    "    datos = datos[:, (10,15,11,17)]\n",
    "    return datos\n",
    "\n",
    "\n",
    "datos = carga_csv('./data/bt_dataset_t3.csv')\n",
    "\n",
    "datos = seleccionAtributos(datos)\n",
    "X = datos[:,:-1]\n",
    "y = datos[:, -1]\n",
    "print(np.shape(X))\n",
    "print(np.shape(y))"
   ]
  },
  {
   "cell_type": "code",
   "execution_count": 3,
   "metadata": {},
   "outputs": [],
   "source": [
    "#60%\n",
    "numTrain = 987\n",
    "#20%\n",
    "numVal = 328\n",
    "#20%\n",
    "numTest = 329"
   ]
  },
  {
   "cell_type": "code",
   "execution_count": 4,
   "metadata": {},
   "outputs": [
    {
     "name": "stdout",
     "output_type": "stream",
     "text": [
      "(987, 3)\n",
      "(987,)\n",
      "(328, 3)\n",
      "(328,)\n",
      "(329, 3)\n",
      "(329,)\n"
     ]
    }
   ],
   "source": [
    "xtrain = X[:numTrain,:]\n",
    "ytrain = y[:numTrain]\n",
    "print(np.shape(xtrain))\n",
    "print(np.shape(ytrain))\n",
    "\n",
    "xval = X[:numVal,:]\n",
    "yval = y[:numVal]\n",
    "print(np.shape(xval))\n",
    "print(np.shape(yval))\n",
    "\n",
    "xtest = X[:numTest,:]\n",
    "ytest = y[:numTest]\n",
    "print(np.shape(xtest))\n",
    "print(np.shape(ytest))"
   ]
  },
  {
   "cell_type": "code",
   "execution_count": 5,
   "metadata": {},
   "outputs": [],
   "source": [
    "def funcion_sigmoide(z):\n",
    "    return  (1/(1 + np.exp(-z))) "
   ]
  },
  {
   "cell_type": "code",
   "execution_count": 6,
   "metadata": {},
   "outputs": [],
   "source": [
    "def h(X, theta):\n",
    "    return funcion_sigmoide(X.dot(theta))"
   ]
  },
  {
   "cell_type": "code",
   "execution_count": 7,
   "metadata": {},
   "outputs": [],
   "source": [
    "def costeReg(theta, X, y, lamda = 1):\n",
    "    J = -1/len(X) * (((np.log( h(X ,theta) )).T).dot(y) +\n",
    "                        ((np.log( 1 - h(X, theta) )).T).dot(1-y) +\n",
    "                        (lamda/(2*len(X))*(np.sum(theta))**2))\n",
    "    return J"
   ]
  },
  {
   "cell_type": "code",
   "execution_count": 8,
   "metadata": {},
   "outputs": [],
   "source": [
    "def gradienteReg(theta, X, y, lamda = 1):\n",
    "    grad = 1/len(X) * (X.T).dot(h(X, theta) - y) \n",
    "    grad[1:] += theta[1:] *(lamda/len(X))\n",
    "    return grad"
   ]
  },
  {
   "cell_type": "code",
   "execution_count": 9,
   "metadata": {},
   "outputs": [],
   "source": [
    "def mapFeature(X,p):\n",
    "    poly = skp.PolynomialFeatures(p,include_bias=False)\n",
    "    return poly.fit_transform(X)"
   ]
  },
  {
   "cell_type": "code",
   "execution_count": 10,
   "metadata": {},
   "outputs": [],
   "source": [
    "def normalizar(X) :\n",
    "    mu = np.mean(X,0)\n",
    "    s = np.std(X,0)\n",
    "    X = (X-mu)/s\n",
    "    return (X, mu, s)"
   ]
  },
  {
   "cell_type": "code",
   "execution_count": 11,
   "metadata": {},
   "outputs": [],
   "source": [
    "def grafica_Positivos_Negativos(X, y):\n",
    "\n",
    "    plt.figure()\n",
    "    \n",
    "    pos = (y == 1).ravel()\n",
    "    neg = (y == 0).ravel()\n",
    "    \n",
    "    plt.scatter(X[pos, 0], X[pos, 1], color='black', marker='+')\n",
    "    plt.scatter(X[neg, 0], X[neg, 1], color='yellow', edgecolors='black', marker='o')\n",
    "\n",
    "    return"
   ]
  },
  {
   "cell_type": "code",
   "execution_count": 12,
   "metadata": {},
   "outputs": [],
   "source": [
    "#grafica_Positivos_Negativos(xtrain, ytrain)"
   ]
  },
  {
   "cell_type": "code",
   "execution_count": 13,
   "metadata": {},
   "outputs": [
    {
     "name": "stdout",
     "output_type": "stream",
     "text": [
      "(987, 454)\n"
     ]
    }
   ],
   "source": [
    "x = mapFeature(xtrain, 12)\n",
    "#x = xtrain\n",
    "(x, mus , s) = normalizar(x)\n",
    "print(x.shape)"
   ]
  },
  {
   "cell_type": "code",
   "execution_count": 14,
   "metadata": {},
   "outputs": [
    {
     "name": "stdout",
     "output_type": "stream",
     "text": [
      "(987, 455)\n",
      "(455,)\n"
     ]
    }
   ],
   "source": [
    "x = np.hstack([ np.ones((len(x),1)), x])\n",
    "print(x.shape)\n",
    "theta = np.zeros((x[0].size))\n",
    "print(np.shape(theta))"
   ]
  },
  {
   "cell_type": "code",
   "execution_count": 15,
   "metadata": {},
   "outputs": [
    {
     "name": "stdout",
     "output_type": "stream",
     "text": [
      "0.6931471805599453\n",
      "[-3.89564336e-01  3.68924071e-03  2.19625612e-02  3.43538605e-02\n",
      "  1.63751546e-02  3.89095667e-02  4.16152830e-03  5.17879348e-02\n",
      "  2.51713603e-02  3.91798096e-02  1.46126577e-02  2.98888493e-02\n",
      "  1.68497018e-02  4.31436128e-02  3.91252659e-02  4.64916005e-03\n",
      "  5.32404078e-02  5.19999893e-02  2.71875119e-02  4.33623748e-02\n",
      "  1.11316873e-02  2.19573385e-02  1.49853253e-02  3.25132001e-02\n",
      "  3.00342838e-02  1.72883859e-02  4.19768769e-02  4.28575483e-02\n",
      "  3.92551514e-02  5.14179466e-03  5.05730662e-02  5.29257140e-02\n",
      "  5.19744173e-02  2.85275639e-02  4.71580268e-02  8.05503669e-03\n",
      "  1.59886739e-02  1.13871904e-02  2.44117799e-02  2.21226059e-02\n",
      "  1.53341750e-02  3.21793508e-02  3.23104150e-02  3.01235148e-02\n",
      "  1.76887244e-02  3.99444038e-02  4.15780405e-02  4.25462253e-02\n",
      "  3.93120160e-02  5.63143815e-03  4.73869661e-02  5.02146678e-02\n",
      "  5.25714141e-02  5.18235260e-02  2.94121867e-02  5.06037969e-02\n",
      "  5.59588196e-03  1.15451758e-02  8.21673211e-03  1.83291106e-02\n",
      "  1.61521442e-02  1.16329721e-02  2.46419131e-02  2.43034358e-02\n",
      "  2.22468366e-02  1.56572134e-02  3.11232113e-02  3.18501630e-02\n",
      "  3.20801913e-02  3.01600817e-02  1.80489952e-02  3.79990981e-02\n",
      "  3.95673812e-02  4.11808028e-02  4.22157422e-02  3.93062217e-02\n",
      "  6.11248377e-03  4.43604449e-02  4.70761915e-02  4.98578770e-02\n",
      "  5.22018446e-02  5.15925336e-02  2.99738101e-02  5.37240704e-02\n",
      "  3.64512581e-03  8.18245481e-03  5.68982327e-03  1.36887951e-02\n",
      "  1.16880517e-02  8.37705966e-03  1.88550506e-02  1.82909257e-02\n",
      "  1.62889122e-02  1.18674040e-02  2.40650801e-02  2.43882507e-02\n",
      "  2.41653679e-02  2.23304834e-02  1.59525712e-02  3.01186754e-02\n",
      "  3.07937576e-02  3.15171077e-02  3.18269070e-02  3.01479363e-02\n",
      "  1.83681655e-02  3.63407627e-02  3.76763888e-02  3.91994985e-02\n",
      "  4.07870740e-02  4.18710222e-02  3.92467719e-02  6.58089657e-03\n",
      "  4.16249258e-02  4.41052251e-02  4.67745776e-02  4.95081244e-02\n",
      "  5.18267596e-02  5.13083990e-02  3.02969409e-02  5.65436371e-02\n",
      "  2.07864954e-03  5.58518071e-03  3.69223646e-03  1.00647257e-02\n",
      "  8.29538820e-03  5.78641643e-03  1.43783905e-02  1.36982273e-02\n",
      "  1.18161214e-02  8.53493900e-03  1.84685058e-02  1.86634615e-02\n",
      "  1.82241366e-02  1.63976802e-02  1.20887512e-02  2.34520520e-02\n",
      "  2.37887135e-02  2.41258598e-02  2.40010257e-02  2.23746215e-02\n",
      "  1.62185801e-02  2.93766285e-02  2.98306481e-02  3.04696839e-02\n",
      "  3.11822184e-02  3.15545936e-02  3.00913091e-02  1.86458497e-02\n",
      "  3.49649770e-02  3.60708187e-02  3.73631549e-02  3.88410203e-02\n",
      "  4.03983135e-02  4.15161745e-02  3.91416179e-02  7.03377368e-03\n",
      "  3.91859961e-02  4.14150410e-02  4.38589376e-02  4.64831093e-02\n",
      "  4.91673940e-02  5.14518983e-02  5.09883196e-02  3.04383453e-02\n",
      "  5.90878759e-02  8.03371596e-04  3.54347757e-03  2.09418840e-03\n",
      "  7.17344399e-03  5.66605064e-03  3.74357051e-03  1.08528389e-02\n",
      "  1.01028573e-02  8.40213045e-03  5.88504946e-03  1.40832374e-02\n",
      "  1.42382907e-02  1.36829416e-02  1.19274670e-02  8.68912594e-03\n",
      "  1.79402855e-02  1.82343791e-02  1.84596190e-02  1.81309057e-02\n",
      "  1.64776398e-02  1.22952318e-02  2.30720156e-02  2.32048493e-02\n",
      "  2.35146578e-02  2.38570489e-02  2.38138110e-02  2.23808764e-02\n",
      "  1.64538468e-02  2.88986981e-02  2.91342068e-02  2.95496742e-02\n",
      "  3.01514795e-02  3.08472125e-02  3.12669129e-02  2.99945756e-02\n",
      "  1.88822733e-02  3.38146946e-02  3.47374869e-02  3.58086753e-02\n",
      "  3.70591886e-02  3.84920782e-02  4.00156567e-02  4.11546442e-02\n",
      "  3.89978285e-02  7.46909198e-03  3.70186033e-02  3.90091038e-02\n",
      "  4.12123082e-02  4.36215523e-02  4.62019437e-02  4.88366862e-02\n",
      "  5.10807899e-02  5.06438272e-02  3.04378037e-02  6.13818111e-02\n",
      " -2.46291428e-04  1.91616465e-03  7.98052652e-04  4.83578163e-03\n",
      "  3.59482528e-03  2.11431403e-03  8.00551325e-03  7.22356424e-03\n",
      "  5.74613007e-03  3.79882281e-03  1.06478742e-02  1.07581889e-02\n",
      "  1.01221254e-02  8.50090713e-03  5.98496745e-03  1.35326776e-02\n",
      "  1.38826366e-02  1.40834898e-02  1.36436846e-02  1.20204100e-02\n",
      "  8.83823889e-03  1.76018780e-02  1.77242223e-02  1.80001452e-02\n",
      "  1.82458948e-02  1.80136139e-02  1.65284870e-02  1.24850812e-02\n",
      "  2.29593169e-02  2.28640662e-02  2.29629541e-02  2.32436732e-02\n",
      "  2.35838357e-02  2.36069995e-02  2.23513338e-02  1.66573154e-02\n",
      "  2.86238251e-02  2.86945617e-02  2.88979897e-02  2.92756907e-02\n",
      "  2.98395101e-02  3.05135273e-02  3.09671503e-02  2.98621353e-02\n",
      "  1.90782279e-02  3.28290287e-02  3.36189766e-02  3.45158923e-02\n",
      "  3.55540581e-02  3.67642576e-02  3.81527107e-02  3.96399813e-02\n",
      "  4.07893205e-02  3.88216918e-02  7.88554374e-03  3.50924699e-02\n",
      "  3.68642206e-02  3.88375716e-02  4.10165246e-02  4.33928486e-02\n",
      "  4.59309978e-02  4.85164647e-02  5.07156701e-02  5.02829535e-02\n",
      "  3.03241831e-02  6.34493542e-02 -1.11720158e-03  6.04895035e-04\n",
      " -2.65061115e-04  2.93587084e-03  1.94292964e-03  7.97161008e-04\n",
      "  5.65012199e-03  4.88424132e-03  3.64824740e-03  2.13889167e-03\n",
      "  7.91796781e-03  7.95085192e-03  7.26141254e-03  5.82411444e-03\n",
      "  3.85758559e-03  1.00743253e-02  1.04777540e-02  1.06476545e-02\n",
      "  1.01220732e-02  8.58997556e-03  6.08527888e-03  1.31159114e-02\n",
      "  1.33388553e-02  1.36797488e-02  1.39161697e-02  1.35815833e-02\n",
      "  1.20935697e-02  8.98079169e-03  1.75227174e-02  1.74197066e-02\n",
      "  1.75121958e-02  1.77667860e-02  1.80244384e-02  1.78747654e-02\n",
      "  1.65504129e-02  1.26566186e-02  2.30699288e-02  2.27861490e-02\n",
      "  2.26613074e-02  2.27264510e-02  2.29763712e-02  2.33079657e-02\n",
      "  2.33836836e-02  2.22884390e-02  1.68283158e-02  2.84822542e-02\n",
      "  2.84489599e-02  2.84952778e-02  2.86677923e-02  2.90086047e-02\n",
      "  2.95340382e-02  3.01823544e-02  3.06582209e-02  2.96983073e-02\n",
      "  1.92350127e-02  3.19582991e-02  3.26563265e-02  3.34275169e-02\n",
      "  3.42999643e-02  3.53066987e-02  3.64781161e-02  3.78228861e-02\n",
      "  3.92719563e-02  4.04226196e-02  3.86187878e-02  8.28241236e-03\n",
      "  3.33791492e-02  3.49526352e-02  3.67137238e-02  3.86712201e-02\n",
      "  4.08274521e-02  4.31725571e-02  4.56700659e-02  4.82068869e-02\n",
      "  5.03579756e-02  4.99114534e-02  3.01190407e-02  6.53128412e-02\n",
      " -1.84397086e-03 -4.61248395e-04 -1.14433091e-03  1.39087246e-03\n",
      "  6.12671426e-04 -2.79745000e-04  3.67335690e-03  2.97377075e-03\n",
      "  1.97297546e-03  8.00645141e-04  5.69375100e-03  5.62719701e-03\n",
      "  4.92633987e-03  3.70291570e-03  2.16771820e-03  7.36493689e-03\n",
      "  7.77906084e-03  7.88083853e-03  7.28584149e-03  5.89862852e-03\n",
      "  3.91934718e-03  9.56750513e-03  9.89863811e-03  1.03032093e-02\n",
      "  1.05229331e-02  1.01026261e-02  8.66767774e-03  6.18496575e-03\n",
      "  1.29364478e-02  1.29506822e-02  1.31479565e-02  1.34757339e-02\n",
      "  1.37384070e-02  1.34980751e-02  1.21459073e-02  9.11523228e-03\n",
      "  1.76780479e-02  1.73726131e-02  1.72420444e-02  1.73044120e-02\n",
      "  1.75351187e-02  1.77971722e-02  1.77169022e-02  1.65440714e-02\n",
      "  1.28083114e-02  2.33429614e-02  2.29240046e-02  2.26172732e-02\n",
      "  2.24636368e-02  2.24953796e-02  2.27132367e-02  2.30309347e-02\n",
      "  2.31467333e-02  2.21948936e-02  1.69665924e-02  2.84134553e-02\n",
      "  2.83288950e-02  2.82777060e-02  2.83006733e-02  2.84434301e-02\n",
      "  2.87483008e-02  2.92352412e-02  2.98546714e-02  3.03426854e-02\n",
      "  2.95072472e-02  1.93543637e-02  3.11668556e-02  3.18020347e-02\n",
      "  3.24865909e-02  3.32401495e-02  3.40894856e-02  3.50663366e-02\n",
      "  3.62005114e-02  3.75025188e-02  3.89120805e-02  4.00565539e-02\n",
      "  3.83940472e-02  8.65946712e-03  3.18535580e-02  3.32481473e-02\n",
      "  3.48155442e-02  3.65669897e-02  3.85098702e-02  4.06448509e-02\n",
      "  4.29603898e-02  4.54188795e-02  4.79079280e-02  5.00086268e-02\n",
      "  4.95335369e-02  2.98388585e-02  6.69928077e-02]\n"
     ]
    }
   ],
   "source": [
    "print(costeReg(theta, x,ytrain, 1))\n",
    "print(gradienteReg(theta, x,ytrain, 1))"
   ]
  },
  {
   "cell_type": "code",
   "execution_count": 16,
   "metadata": {},
   "outputs": [],
   "source": [
    "result = opt.fmin_tnc(func=costeReg, x0=theta, fprime=gradienteReg, args=(x,ytrain,1))\n",
    "theta_opt = result[0]"
   ]
  },
  {
   "cell_type": "code",
   "execution_count": 17,
   "metadata": {},
   "outputs": [],
   "source": [
    "def porcentajeAciertos(X, Y, theta):\n",
    "    numFilas = len(X)\n",
    "    aciertos = 0\n",
    "    for i in range(0,numFilas):\n",
    "        xx = np.transpose(X[i,:])\n",
    "        xx = np.dot(xx, theta)\n",
    "        hip = funcion_sigmoide(xx)\n",
    "        if(hip < 0.5):\n",
    "            hip = 0\n",
    "        else:\n",
    "            hip = 1\n",
    "        if(Y[i] == hip):\n",
    "            aciertos += 1\n",
    "    \n",
    "    return (aciertos/numFilas)*100"
   ]
  },
  {
   "cell_type": "code",
   "execution_count": 18,
   "metadata": {
    "scrolled": true
   },
   "outputs": [
    {
     "name": "stdout",
     "output_type": "stream",
     "text": [
      "Porcentaje de aciertos es  95.74468085106383 %\n"
     ]
    }
   ],
   "source": [
    "percent = porcentajeAciertos(x,ytrain,theta_opt)\n",
    "print(\"Porcentaje de aciertos es \", percent, \"%\")"
   ]
  },
  {
   "cell_type": "code",
   "execution_count": 28,
   "metadata": {},
   "outputs": [],
   "source": [
    "def regresionLogisticaReg(theta, X, y, lamb) :\n",
    "    y = y.ravel()\n",
    "    return(costeReg(theta,X,y,lamb), gradienteReg(theta,X,y,lamb))"
   ]
  },
  {
   "cell_type": "code",
   "execution_count": 29,
   "metadata": {},
   "outputs": [
    {
     "data": {
      "text/plain": [
       "(0.6931471805599453,\n",
       " array([-3.89564336e-01,  3.68924071e-03,  2.19625612e-02,  3.43538605e-02,\n",
       "         1.63751546e-02,  3.89095667e-02,  4.16152830e-03,  5.17879348e-02,\n",
       "         2.51713603e-02,  3.91798096e-02,  1.46126577e-02,  2.98888493e-02,\n",
       "         1.68497018e-02,  4.31436128e-02,  3.91252659e-02,  4.64916005e-03,\n",
       "         5.32404078e-02,  5.19999893e-02,  2.71875119e-02,  4.33623748e-02,\n",
       "         1.11316873e-02,  2.19573385e-02,  1.49853253e-02,  3.25132001e-02,\n",
       "         3.00342838e-02,  1.72883859e-02,  4.19768769e-02,  4.28575483e-02,\n",
       "         3.92551514e-02,  5.14179466e-03,  5.05730662e-02,  5.29257140e-02,\n",
       "         5.19744173e-02,  2.85275639e-02,  4.71580268e-02,  8.05503669e-03,\n",
       "         1.59886739e-02,  1.13871904e-02,  2.44117799e-02,  2.21226059e-02,\n",
       "         1.53341750e-02,  3.21793508e-02,  3.23104150e-02,  3.01235148e-02,\n",
       "         1.76887244e-02,  3.99444038e-02,  4.15780405e-02,  4.25462253e-02,\n",
       "         3.93120160e-02,  5.63143815e-03,  4.73869661e-02,  5.02146678e-02,\n",
       "         5.25714141e-02,  5.18235260e-02,  2.94121867e-02,  5.06037969e-02,\n",
       "         5.59588196e-03,  1.15451758e-02,  8.21673211e-03,  1.83291106e-02,\n",
       "         1.61521442e-02,  1.16329721e-02,  2.46419131e-02,  2.43034358e-02,\n",
       "         2.22468366e-02,  1.56572134e-02,  3.11232113e-02,  3.18501630e-02,\n",
       "         3.20801913e-02,  3.01600817e-02,  1.80489952e-02,  3.79990981e-02,\n",
       "         3.95673812e-02,  4.11808028e-02,  4.22157422e-02,  3.93062217e-02,\n",
       "         6.11248377e-03,  4.43604449e-02,  4.70761915e-02,  4.98578770e-02,\n",
       "         5.22018446e-02,  5.15925336e-02,  2.99738101e-02,  5.37240704e-02,\n",
       "         3.64512581e-03,  8.18245481e-03,  5.68982327e-03,  1.36887951e-02,\n",
       "         1.16880517e-02,  8.37705966e-03,  1.88550506e-02,  1.82909257e-02,\n",
       "         1.62889122e-02,  1.18674040e-02,  2.40650801e-02,  2.43882507e-02,\n",
       "         2.41653679e-02,  2.23304834e-02,  1.59525712e-02,  3.01186754e-02,\n",
       "         3.07937576e-02,  3.15171077e-02,  3.18269070e-02,  3.01479363e-02,\n",
       "         1.83681655e-02,  3.63407627e-02,  3.76763888e-02,  3.91994985e-02,\n",
       "         4.07870740e-02,  4.18710222e-02,  3.92467719e-02,  6.58089657e-03,\n",
       "         4.16249258e-02,  4.41052251e-02,  4.67745776e-02,  4.95081244e-02,\n",
       "         5.18267596e-02,  5.13083990e-02,  3.02969409e-02,  5.65436371e-02,\n",
       "         2.07864954e-03,  5.58518071e-03,  3.69223646e-03,  1.00647257e-02,\n",
       "         8.29538820e-03,  5.78641643e-03,  1.43783905e-02,  1.36982273e-02,\n",
       "         1.18161214e-02,  8.53493900e-03,  1.84685058e-02,  1.86634615e-02,\n",
       "         1.82241366e-02,  1.63976802e-02,  1.20887512e-02,  2.34520520e-02,\n",
       "         2.37887135e-02,  2.41258598e-02,  2.40010257e-02,  2.23746215e-02,\n",
       "         1.62185801e-02,  2.93766285e-02,  2.98306481e-02,  3.04696839e-02,\n",
       "         3.11822184e-02,  3.15545936e-02,  3.00913091e-02,  1.86458497e-02,\n",
       "         3.49649770e-02,  3.60708187e-02,  3.73631549e-02,  3.88410203e-02,\n",
       "         4.03983135e-02,  4.15161745e-02,  3.91416179e-02,  7.03377368e-03,\n",
       "         3.91859961e-02,  4.14150410e-02,  4.38589376e-02,  4.64831093e-02,\n",
       "         4.91673940e-02,  5.14518983e-02,  5.09883196e-02,  3.04383453e-02,\n",
       "         5.90878759e-02,  8.03371596e-04,  3.54347757e-03,  2.09418840e-03,\n",
       "         7.17344399e-03,  5.66605064e-03,  3.74357051e-03,  1.08528389e-02,\n",
       "         1.01028573e-02,  8.40213045e-03,  5.88504946e-03,  1.40832374e-02,\n",
       "         1.42382907e-02,  1.36829416e-02,  1.19274670e-02,  8.68912594e-03,\n",
       "         1.79402855e-02,  1.82343791e-02,  1.84596190e-02,  1.81309057e-02,\n",
       "         1.64776398e-02,  1.22952318e-02,  2.30720156e-02,  2.32048493e-02,\n",
       "         2.35146578e-02,  2.38570489e-02,  2.38138110e-02,  2.23808764e-02,\n",
       "         1.64538468e-02,  2.88986981e-02,  2.91342068e-02,  2.95496742e-02,\n",
       "         3.01514795e-02,  3.08472125e-02,  3.12669129e-02,  2.99945756e-02,\n",
       "         1.88822733e-02,  3.38146946e-02,  3.47374869e-02,  3.58086753e-02,\n",
       "         3.70591886e-02,  3.84920782e-02,  4.00156567e-02,  4.11546442e-02,\n",
       "         3.89978285e-02,  7.46909198e-03,  3.70186033e-02,  3.90091038e-02,\n",
       "         4.12123082e-02,  4.36215523e-02,  4.62019437e-02,  4.88366862e-02,\n",
       "         5.10807899e-02,  5.06438272e-02,  3.04378037e-02,  6.13818111e-02,\n",
       "        -2.46291428e-04,  1.91616465e-03,  7.98052652e-04,  4.83578163e-03,\n",
       "         3.59482528e-03,  2.11431403e-03,  8.00551325e-03,  7.22356424e-03,\n",
       "         5.74613007e-03,  3.79882281e-03,  1.06478742e-02,  1.07581889e-02,\n",
       "         1.01221254e-02,  8.50090713e-03,  5.98496745e-03,  1.35326776e-02,\n",
       "         1.38826366e-02,  1.40834898e-02,  1.36436846e-02,  1.20204100e-02,\n",
       "         8.83823889e-03,  1.76018780e-02,  1.77242223e-02,  1.80001452e-02,\n",
       "         1.82458948e-02,  1.80136139e-02,  1.65284870e-02,  1.24850812e-02,\n",
       "         2.29593169e-02,  2.28640662e-02,  2.29629541e-02,  2.32436732e-02,\n",
       "         2.35838357e-02,  2.36069995e-02,  2.23513338e-02,  1.66573154e-02,\n",
       "         2.86238251e-02,  2.86945617e-02,  2.88979897e-02,  2.92756907e-02,\n",
       "         2.98395101e-02,  3.05135273e-02,  3.09671503e-02,  2.98621353e-02,\n",
       "         1.90782279e-02,  3.28290287e-02,  3.36189766e-02,  3.45158923e-02,\n",
       "         3.55540581e-02,  3.67642576e-02,  3.81527107e-02,  3.96399813e-02,\n",
       "         4.07893205e-02,  3.88216918e-02,  7.88554374e-03,  3.50924699e-02,\n",
       "         3.68642206e-02,  3.88375716e-02,  4.10165246e-02,  4.33928486e-02,\n",
       "         4.59309978e-02,  4.85164647e-02,  5.07156701e-02,  5.02829535e-02,\n",
       "         3.03241831e-02,  6.34493542e-02, -1.11720158e-03,  6.04895035e-04,\n",
       "        -2.65061115e-04,  2.93587084e-03,  1.94292964e-03,  7.97161008e-04,\n",
       "         5.65012199e-03,  4.88424132e-03,  3.64824740e-03,  2.13889167e-03,\n",
       "         7.91796781e-03,  7.95085192e-03,  7.26141254e-03,  5.82411444e-03,\n",
       "         3.85758559e-03,  1.00743253e-02,  1.04777540e-02,  1.06476545e-02,\n",
       "         1.01220732e-02,  8.58997556e-03,  6.08527888e-03,  1.31159114e-02,\n",
       "         1.33388553e-02,  1.36797488e-02,  1.39161697e-02,  1.35815833e-02,\n",
       "         1.20935697e-02,  8.98079169e-03,  1.75227174e-02,  1.74197066e-02,\n",
       "         1.75121958e-02,  1.77667860e-02,  1.80244384e-02,  1.78747654e-02,\n",
       "         1.65504129e-02,  1.26566186e-02,  2.30699288e-02,  2.27861490e-02,\n",
       "         2.26613074e-02,  2.27264510e-02,  2.29763712e-02,  2.33079657e-02,\n",
       "         2.33836836e-02,  2.22884390e-02,  1.68283158e-02,  2.84822542e-02,\n",
       "         2.84489599e-02,  2.84952778e-02,  2.86677923e-02,  2.90086047e-02,\n",
       "         2.95340382e-02,  3.01823544e-02,  3.06582209e-02,  2.96983073e-02,\n",
       "         1.92350127e-02,  3.19582991e-02,  3.26563265e-02,  3.34275169e-02,\n",
       "         3.42999643e-02,  3.53066987e-02,  3.64781161e-02,  3.78228861e-02,\n",
       "         3.92719563e-02,  4.04226196e-02,  3.86187878e-02,  8.28241236e-03,\n",
       "         3.33791492e-02,  3.49526352e-02,  3.67137238e-02,  3.86712201e-02,\n",
       "         4.08274521e-02,  4.31725571e-02,  4.56700659e-02,  4.82068869e-02,\n",
       "         5.03579756e-02,  4.99114534e-02,  3.01190407e-02,  6.53128412e-02,\n",
       "        -1.84397086e-03, -4.61248395e-04, -1.14433091e-03,  1.39087246e-03,\n",
       "         6.12671426e-04, -2.79745000e-04,  3.67335690e-03,  2.97377075e-03,\n",
       "         1.97297546e-03,  8.00645141e-04,  5.69375100e-03,  5.62719701e-03,\n",
       "         4.92633987e-03,  3.70291570e-03,  2.16771820e-03,  7.36493689e-03,\n",
       "         7.77906084e-03,  7.88083853e-03,  7.28584149e-03,  5.89862852e-03,\n",
       "         3.91934718e-03,  9.56750513e-03,  9.89863811e-03,  1.03032093e-02,\n",
       "         1.05229331e-02,  1.01026261e-02,  8.66767774e-03,  6.18496575e-03,\n",
       "         1.29364478e-02,  1.29506822e-02,  1.31479565e-02,  1.34757339e-02,\n",
       "         1.37384070e-02,  1.34980751e-02,  1.21459073e-02,  9.11523228e-03,\n",
       "         1.76780479e-02,  1.73726131e-02,  1.72420444e-02,  1.73044120e-02,\n",
       "         1.75351187e-02,  1.77971722e-02,  1.77169022e-02,  1.65440714e-02,\n",
       "         1.28083114e-02,  2.33429614e-02,  2.29240046e-02,  2.26172732e-02,\n",
       "         2.24636368e-02,  2.24953796e-02,  2.27132367e-02,  2.30309347e-02,\n",
       "         2.31467333e-02,  2.21948936e-02,  1.69665924e-02,  2.84134553e-02,\n",
       "         2.83288950e-02,  2.82777060e-02,  2.83006733e-02,  2.84434301e-02,\n",
       "         2.87483008e-02,  2.92352412e-02,  2.98546714e-02,  3.03426854e-02,\n",
       "         2.95072472e-02,  1.93543637e-02,  3.11668556e-02,  3.18020347e-02,\n",
       "         3.24865909e-02,  3.32401495e-02,  3.40894856e-02,  3.50663366e-02,\n",
       "         3.62005114e-02,  3.75025188e-02,  3.89120805e-02,  4.00565539e-02,\n",
       "         3.83940472e-02,  8.65946712e-03,  3.18535580e-02,  3.32481473e-02,\n",
       "         3.48155442e-02,  3.65669897e-02,  3.85098702e-02,  4.06448509e-02,\n",
       "         4.29603898e-02,  4.54188795e-02,  4.79079280e-02,  5.00086268e-02,\n",
       "         4.95335369e-02,  2.98388585e-02,  6.69928077e-02]))"
      ]
     },
     "execution_count": 29,
     "metadata": {},
     "output_type": "execute_result"
    }
   ],
   "source": [
    "regresionLogisticaReg(theta, x, ytrain, 1)"
   ]
  },
  {
   "cell_type": "code",
   "execution_count": 30,
   "metadata": {},
   "outputs": [],
   "source": [
    "def curvaAprendizaje(x, y, xval, yval, reg):\n",
    "    trainError = np.zeros((len(x), 1))\n",
    "    validationError = np.zeros((len(x), 1))\n",
    "    \n",
    "    for i in range(1, len(x) + 1):\n",
    "        theta = np.zeros((x[0].size))\n",
    "        thetaOpts = opt.minimize(regresionLogisticaReg, theta, args = (x[0:i], y[0:i], reg), method='TNC', jac=True)\n",
    "        thetaOpts = thetaOpts['x']\n",
    "        \n",
    "        trainError[i-1] = regresionLogisticaReg(thetaOpts, x[0:i], y[0:i], 0)[0]\n",
    "        \n",
    "        validationError[i-1] = regresionLogisticaReg(thetaOpts, xval, yval, 0)[0]\n",
    "        \n",
    "    return (trainError, validationError)"
   ]
  },
  {
   "cell_type": "code",
   "execution_count": 31,
   "metadata": {},
   "outputs": [
    {
     "ename": "ValueError",
     "evalue": "operands could not be broadcast together with shapes (328,164) (454,) ",
     "output_type": "error",
     "traceback": [
      "\u001b[1;31m---------------------------------------------------------------------------\u001b[0m",
      "\u001b[1;31mValueError\u001b[0m                                Traceback (most recent call last)",
      "\u001b[1;32m<ipython-input-31-28b0daf7abae>\u001b[0m in \u001b[0;36m<module>\u001b[1;34m\u001b[0m\n\u001b[0;32m      1\u001b[0m \u001b[0maux\u001b[0m \u001b[1;33m=\u001b[0m \u001b[0mmapFeature\u001b[0m\u001b[1;33m(\u001b[0m\u001b[0mxval\u001b[0m\u001b[1;33m,\u001b[0m \u001b[1;36m8\u001b[0m\u001b[1;33m)\u001b[0m\u001b[1;33m\u001b[0m\u001b[1;33m\u001b[0m\u001b[0m\n\u001b[1;32m----> 2\u001b[1;33m \u001b[0mpolinomio_Xval\u001b[0m \u001b[1;33m=\u001b[0m \u001b[1;33m(\u001b[0m\u001b[0maux\u001b[0m\u001b[1;33m-\u001b[0m\u001b[0mmus\u001b[0m\u001b[1;33m)\u001b[0m\u001b[1;33m/\u001b[0m\u001b[0ms\u001b[0m\u001b[1;33m\u001b[0m\u001b[1;33m\u001b[0m\u001b[0m\n\u001b[0m\u001b[0;32m      3\u001b[0m \u001b[0mpolinomio_Xval\u001b[0m \u001b[1;33m=\u001b[0m \u001b[0mnp\u001b[0m\u001b[1;33m.\u001b[0m\u001b[0mhstack\u001b[0m\u001b[1;33m(\u001b[0m\u001b[1;33m[\u001b[0m \u001b[0mnp\u001b[0m\u001b[1;33m.\u001b[0m\u001b[0mones\u001b[0m\u001b[1;33m(\u001b[0m\u001b[1;33m(\u001b[0m\u001b[0mlen\u001b[0m\u001b[1;33m(\u001b[0m\u001b[0mpolinomio_Xval\u001b[0m\u001b[1;33m)\u001b[0m\u001b[1;33m,\u001b[0m\u001b[1;36m1\u001b[0m\u001b[1;33m)\u001b[0m\u001b[1;33m)\u001b[0m\u001b[1;33m,\u001b[0m \u001b[0mpolinomio_Xval\u001b[0m\u001b[1;33m]\u001b[0m\u001b[1;33m)\u001b[0m\u001b[1;33m\u001b[0m\u001b[1;33m\u001b[0m\u001b[0m\n\u001b[0;32m      4\u001b[0m \u001b[0mtrain\u001b[0m\u001b[1;33m,\u001b[0m \u001b[0mcrossValidation\u001b[0m \u001b[1;33m=\u001b[0m \u001b[0mcurvaAprendizaje\u001b[0m\u001b[1;33m(\u001b[0m\u001b[0mx\u001b[0m\u001b[1;33m,\u001b[0m \u001b[0mytrain\u001b[0m\u001b[1;33m,\u001b[0m \u001b[0mpolinomio_Xval\u001b[0m\u001b[1;33m,\u001b[0m \u001b[0myval\u001b[0m\u001b[1;33m,\u001b[0m \u001b[1;36m1\u001b[0m\u001b[1;33m)\u001b[0m\u001b[1;33m\u001b[0m\u001b[1;33m\u001b[0m\u001b[0m\n",
      "\u001b[1;31mValueError\u001b[0m: operands could not be broadcast together with shapes (328,164) (454,) "
     ]
    }
   ],
   "source": [
    "aux = mapFeature(xval, 8)\n",
    "polinomio_Xval = (aux-mus)/s\n",
    "polinomio_Xval = np.hstack([ np.ones((len(polinomio_Xval),1)), polinomio_Xval])\n",
    "train, crossValidation = curvaAprendizaje(x, ytrain, polinomio_Xval, yval, 1)"
   ]
  },
  {
   "cell_type": "code",
   "execution_count": 23,
   "metadata": {},
   "outputs": [
    {
     "ename": "NameError",
     "evalue": "name 'train' is not defined",
     "output_type": "error",
     "traceback": [
      "\u001b[1;31m---------------------------------------------------------------------------\u001b[0m",
      "\u001b[1;31mNameError\u001b[0m                                 Traceback (most recent call last)",
      "\u001b[1;32m<ipython-input-23-173e21107149>\u001b[0m in \u001b[0;36m<module>\u001b[1;34m\u001b[0m\n\u001b[1;32m----> 1\u001b[1;33m \u001b[0mplt\u001b[0m\u001b[1;33m.\u001b[0m\u001b[0mplot\u001b[0m\u001b[1;33m(\u001b[0m\u001b[0mnp\u001b[0m\u001b[1;33m.\u001b[0m\u001b[0marange\u001b[0m\u001b[1;33m(\u001b[0m\u001b[1;36m1\u001b[0m\u001b[1;33m,\u001b[0m \u001b[0mlen\u001b[0m\u001b[1;33m(\u001b[0m\u001b[0mx\u001b[0m\u001b[1;33m)\u001b[0m \u001b[1;33m+\u001b[0m \u001b[1;36m1\u001b[0m\u001b[1;33m)\u001b[0m\u001b[1;33m,\u001b[0m \u001b[0mtrain\u001b[0m\u001b[1;33m,\u001b[0m \u001b[1;34m'b'\u001b[0m\u001b[1;33m,\u001b[0m \u001b[0mlabel\u001b[0m \u001b[1;33m=\u001b[0m \u001b[1;34m'train'\u001b[0m\u001b[1;33m)\u001b[0m\u001b[1;33m\u001b[0m\u001b[1;33m\u001b[0m\u001b[0m\n\u001b[0m\u001b[0;32m      2\u001b[0m \u001b[0mplt\u001b[0m\u001b[1;33m.\u001b[0m\u001b[0mplot\u001b[0m\u001b[1;33m(\u001b[0m\u001b[0mnp\u001b[0m\u001b[1;33m.\u001b[0m\u001b[0marange\u001b[0m\u001b[1;33m(\u001b[0m\u001b[1;36m1\u001b[0m\u001b[1;33m,\u001b[0m \u001b[0mlen\u001b[0m\u001b[1;33m(\u001b[0m\u001b[0mx\u001b[0m\u001b[1;33m)\u001b[0m \u001b[1;33m+\u001b[0m \u001b[1;36m1\u001b[0m\u001b[1;33m)\u001b[0m\u001b[1;33m,\u001b[0m \u001b[0mcrossValidation\u001b[0m\u001b[1;33m,\u001b[0m \u001b[1;34m'tab:orange'\u001b[0m\u001b[1;33m,\u001b[0m \u001b[0mlabel\u001b[0m \u001b[1;33m=\u001b[0m \u001b[1;34m'Cross Validation'\u001b[0m\u001b[1;33m)\u001b[0m\u001b[1;33m\u001b[0m\u001b[1;33m\u001b[0m\u001b[0m\n\u001b[0;32m      3\u001b[0m \u001b[0mplt\u001b[0m\u001b[1;33m.\u001b[0m\u001b[0mxlabel\u001b[0m\u001b[1;33m(\u001b[0m\u001b[1;34m'Number of training examples'\u001b[0m\u001b[1;33m)\u001b[0m\u001b[1;33m\u001b[0m\u001b[1;33m\u001b[0m\u001b[0m\n\u001b[0;32m      4\u001b[0m \u001b[0mplt\u001b[0m\u001b[1;33m.\u001b[0m\u001b[0mylabel\u001b[0m\u001b[1;33m(\u001b[0m\u001b[1;34m'Error'\u001b[0m\u001b[1;33m)\u001b[0m\u001b[1;33m\u001b[0m\u001b[1;33m\u001b[0m\u001b[0m\n\u001b[0;32m      5\u001b[0m \u001b[0mplt\u001b[0m\u001b[1;33m.\u001b[0m\u001b[0mlegend\u001b[0m\u001b[1;33m(\u001b[0m\u001b[0mloc\u001b[0m\u001b[1;33m=\u001b[0m\u001b[1;36m0\u001b[0m\u001b[1;33m)\u001b[0m\u001b[1;33m\u001b[0m\u001b[1;33m\u001b[0m\u001b[0m\n",
      "\u001b[1;31mNameError\u001b[0m: name 'train' is not defined"
     ]
    }
   ],
   "source": [
    "plt.plot(np.arange(1, len(x) + 1), train, 'b', label = 'train')\n",
    "plt.plot(np.arange(1, len(x) + 1), crossValidation, 'tab:orange', label = 'Cross Validation')\n",
    "plt.xlabel('Number of training examples')\n",
    "plt.ylabel('Error')\n",
    "plt.legend(loc=0)"
   ]
  },
  {
   "cell_type": "code",
   "execution_count": 24,
   "metadata": {},
   "outputs": [],
   "source": [
    "def graficaCurvaAprendizaje(x, y, xval, yval, lamb) :\n",
    "    train, crossValidation = curvaAprendizaje(x, y, xval, yval, lamb)\n",
    "    plt.plot(np.arange(1, len(x) + 1), train, 'b', label = 'train')\n",
    "    plt.plot(np.arange(1, len(x) + 1), crossValidation, 'tab:orange', label = 'Cross Validation')\n",
    "    plt.xlabel('Number of training examples')\n",
    "    plt.ylabel('Error')\n",
    "    plt.legend(loc=0)"
   ]
  },
  {
   "cell_type": "code",
   "execution_count": 25,
   "metadata": {},
   "outputs": [
    {
     "ename": "NameError",
     "evalue": "name 'polinomio_Xval' is not defined",
     "output_type": "error",
     "traceback": [
      "\u001b[1;31m---------------------------------------------------------------------------\u001b[0m",
      "\u001b[1;31mNameError\u001b[0m                                 Traceback (most recent call last)",
      "\u001b[1;32m<ipython-input-25-723f498e9fb5>\u001b[0m in \u001b[0;36m<module>\u001b[1;34m\u001b[0m\n\u001b[1;32m----> 1\u001b[1;33m \u001b[0mgraficaCurvaAprendizaje\u001b[0m\u001b[1;33m(\u001b[0m\u001b[0mx\u001b[0m\u001b[1;33m,\u001b[0m \u001b[0mytrain\u001b[0m\u001b[1;33m,\u001b[0m \u001b[0mpolinomio_Xval\u001b[0m\u001b[1;33m,\u001b[0m \u001b[0myval\u001b[0m\u001b[1;33m,\u001b[0m \u001b[1;36m1\u001b[0m\u001b[1;33m)\u001b[0m\u001b[1;33m\u001b[0m\u001b[1;33m\u001b[0m\u001b[0m\n\u001b[0m",
      "\u001b[1;31mNameError\u001b[0m: name 'polinomio_Xval' is not defined"
     ]
    }
   ],
   "source": [
    "graficaCurvaAprendizaje(x, ytrain, polinomio_Xval, yval, 1)"
   ]
  },
  {
   "cell_type": "code",
   "execution_count": 26,
   "metadata": {},
   "outputs": [
    {
     "ename": "NameError",
     "evalue": "name 'polinomio_Xval' is not defined",
     "output_type": "error",
     "traceback": [
      "\u001b[1;31m---------------------------------------------------------------------------\u001b[0m",
      "\u001b[1;31mNameError\u001b[0m                                 Traceback (most recent call last)",
      "\u001b[1;32m<ipython-input-26-dda992155f7c>\u001b[0m in \u001b[0;36m<module>\u001b[1;34m\u001b[0m\n\u001b[1;32m----> 1\u001b[1;33m \u001b[0mgraficaCurvaAprendizaje\u001b[0m\u001b[1;33m(\u001b[0m\u001b[0mx\u001b[0m\u001b[1;33m,\u001b[0m \u001b[0mytrain\u001b[0m\u001b[1;33m,\u001b[0m \u001b[0mpolinomio_Xval\u001b[0m\u001b[1;33m,\u001b[0m \u001b[0myval\u001b[0m\u001b[1;33m,\u001b[0m \u001b[1;36m0.5\u001b[0m\u001b[1;33m)\u001b[0m\u001b[1;33m\u001b[0m\u001b[1;33m\u001b[0m\u001b[0m\n\u001b[0m",
      "\u001b[1;31mNameError\u001b[0m: name 'polinomio_Xval' is not defined"
     ]
    }
   ],
   "source": [
    "graficaCurvaAprendizaje(x, ytrain, polinomio_Xval, yval, 0.5)"
   ]
  },
  {
   "cell_type": "code",
   "execution_count": 27,
   "metadata": {},
   "outputs": [
    {
     "ename": "NameError",
     "evalue": "name 'polinomio_Xval' is not defined",
     "output_type": "error",
     "traceback": [
      "\u001b[1;31m---------------------------------------------------------------------------\u001b[0m",
      "\u001b[1;31mNameError\u001b[0m                                 Traceback (most recent call last)",
      "\u001b[1;32m<ipython-input-27-2b175cf60e9e>\u001b[0m in \u001b[0;36m<module>\u001b[1;34m\u001b[0m\n\u001b[1;32m----> 1\u001b[1;33m \u001b[0mgraficaCurvaAprendizaje\u001b[0m\u001b[1;33m(\u001b[0m\u001b[0mx\u001b[0m\u001b[1;33m,\u001b[0m \u001b[0mytrain\u001b[0m\u001b[1;33m,\u001b[0m \u001b[0mpolinomio_Xval\u001b[0m\u001b[1;33m,\u001b[0m \u001b[0myval\u001b[0m\u001b[1;33m,\u001b[0m \u001b[1;36m100\u001b[0m\u001b[1;33m)\u001b[0m\u001b[1;33m\u001b[0m\u001b[1;33m\u001b[0m\u001b[0m\n\u001b[0m",
      "\u001b[1;31mNameError\u001b[0m: name 'polinomio_Xval' is not defined"
     ]
    }
   ],
   "source": [
    "graficaCurvaAprendizaje(x, ytrain, polinomio_Xval, yval, 100)"
   ]
  },
  {
   "cell_type": "code",
   "execution_count": 99,
   "metadata": {},
   "outputs": [
    {
     "data": {
      "image/png": "[encoded data removed]",
      "text/plain": [
       "<Figure size 432x288 with 1 Axes>"
      ]
     },
     "metadata": {
      "needs_background": "light"
     },
     "output_type": "display_data"
    }
   ],
   "source": [
    "graficaCurvaAprendizaje(x, ytrain, polinomio_Xval, yval, 2000)"
   ]
  },
  {
   "cell_type": "code",
   "execution_count": 42,
   "metadata": {},
   "outputs": [
    {
     "name": "stdout",
     "output_type": "stream",
     "text": [
      "Error obtenido con Xtest =  0.2253822025335773\n"
     ]
    }
   ],
   "source": [
    "aux = mapFeature(xtest, 12)\n",
    "polinomio_Xtest = (aux-mus)/s\n",
    "polinomio_Xtest = np.hstack([ np.ones((len(polinomio_Xtest),1)), polinomio_Xtest])\n",
    "theta = np.zeros((x[0].size))\n",
    "thetaOpts = opt.minimize(regresionLogisticaReg, theta, args = (x, ytrain, 1), method='TNC', jac=True)['x']\n",
    "trainError = regresionLogisticaReg(thetaOpts, polinomio_Xtest, ytest, 0)[0]        \n",
    "print(\"Error obtenido con Xtest = \", trainError)"
   ]
  },
  {
   "cell_type": "code",
   "execution_count": null,
   "metadata": {},
   "outputs": [],
   "source": []
  }
 ],
 "metadata": {
  "kernelspec": {
   "display_name": "Python 3",
   "language": "python",
   "name": "python3"
  },
  "language_info": {
   "codemirror_mode": {
    "name": "ipython",
    "version": 3
   },
   "file_extension": ".py",
   "mimetype": "text/x-python",
   "name": "python",
   "nbconvert_exporter": "python",
   "pygments_lexer": "ipython3",
   "version": "3.7.4"
  }
 },
 "nbformat": 4,
 "nbformat_minor": 2
}
